{
  "cells": [
    {
      "cell_type": "markdown",
      "metadata": {
        "id": "cRTBPI0nzvPN"
      },
      "source": [
        "# <center><u>Hypothesis Testing</u></center>\n",
        "Well probably all who are beginner in machine learning or in intermediate level or statistic student heard about this buzz word hypothesis testing.\n",
        "\n",
        "A hypothesis test evaluates two mutually exclusive statements about a population to determine which statement is best supported by the sample data. When we say that a finding is statistically significant, it’s thanks to a hypothesis test.\n",
        "\n",
        "Ex : you say avg student in class is 40 or a boy is taller than girls.\n",
        "\n",
        "“Hypothesis is described as a recommended solution for an undefinable incident which doesn’t into current theory”.\n",
        "\n",
        "\n",
        "#### Basic of hypothesis\n",
        "\n",
        "The basic of hypothesis is normalisation and standard normalisation. all our hypothesis is revolve around basic of these 2 terms. let’s see these.\n",
        "\n",
        "Normal distributions are a family of distributions with a symmetrical bell shape. The area under each of the curves above is the same and most of the values occur in the middle of the curve. The mean and standard deviation of a normal distribution control how tall and wide it is.\n",
        "properties of normal distribution is that the mean, median, and mode are equal.\n",
        "\n",
        "The standard normal distribution (z distribution) is a normal distribution with a mean of 0 and a standard deviation of 1. Any point (x) from a normal distribution can be converted to the standard normal distribution (z) with the formula z = (x-mean) / standard deviation\n",
        "\n",
        "The Standard Normal Distribution is a specific instance of the Normal Distribution that has a mean of ‘0’ and a standard deviation of ‘1’.\n",
        "\n",
        "The visual way to understand it would be the following image\n",
        "\n",
        "![image-2.png](attachment:image-2.png)\n",
        "\n",
        "The four curves are Normal distributions, but only the red one is Standard Normal (since it’s mean is zero, which means that’s where it’s centred, and its standard deviation is one.\n",
        "\n",
        "#### Central Limit Theorem \n",
        "The Central Limit Theorem states that the sampling distribution of the sample means approaches a normal distribution as the sample size gets larger — no matter what the shape of the population distribution. This fact holds especially true for sample sizes over 30.\n",
        "\n",
        "All this is saying is that as you take more samples, especially large ones, your graph of the sample means will look more like a normal distribution.\n",
        "\n",
        "Here’s what the Central Limit Theorem is saying, graphically. The picture below shows one of the simplest types of test: rolling a fair die. The more times you roll the die, the more likely the shape of the distribution of the means tends to look like a normal distribution graph.\n",
        "\n",
        "![image-4.png](attachment:image-4.png)\n",
        "#### Important parameter of hypothesis testing\n",
        "\n",
        "1. Null hypothesis: It is regarding the assumption that there is no anomaly pattern or believing according to the assumption made.\n",
        "\n",
        "2. Alternate hypothesis: Contrary to the null hypothesis, it shows that observation is the result of real effect.\n",
        "\n",
        "3. Level of significance: Refers to the degree of significance in which we accept or reject the null-hypothesis. 100% accuracy is not possible for accepting or rejecting a hypothesis, so we therefore select a level of significance that is usually 5%.\n",
        "This is normally denoted with alpha(maths symbol ) and generally it is 0.05 or 5% , which means your output should be 95% confident to give similar kind of result in each sample.\n",
        "\n",
        "4. Type I error ( ${\\alpha}$): When we reject the null hypothesis, although that hypothesis was true. Type I error is denoted by alpha. In hypothesis testing, the normal curve that shows the critical region is called the alpha region.\n",
        "5. Type II errors ( ${\\beta}$): When we failed to reject (* never say accept null hypo- stated in many papers) the null hypothesis but it is false. Type II errors are denoted by beta. In Hypothesis testing, the normal curve that shows the acceptance region is called the beta region.\n",
        "\n",
        "alpha can only be committed when the null hypothesis is rejected and beta can only be committed when the null hypothesis is not rejected, a business researcher cannot commit both a Type I error and a Type II error at the same time on the same hypothesis test\n",
        "\n",
        "beta occurs only when the null hypothesis is not true, the computation of beta varies with the many possible alternative parameters that might occur.\n",
        "\n",
        "#### Tests of Statistical hypothesis\n",
        "6. Lower critical value/ Upper Critical value : We can refer to each critical value as the lower and upper critical values for the left and right of the distribution respectively. Test statistic values more than or equal to the lower critical value and less than or equal to the upper critical value indicate the failure to reject the null hypothesis\n",
        "\n",
        "LCV= x +(-z * σ) <br>\n",
        "UCV= x+ (z * σ)\n",
        "\n",
        "\n",
        "7. One tailed test :- A test of a statistical hypothesis , where the region of rejection is on only one side of the sampling distribution , is called a one-tailed test.\n",
        "Example :- a college has ≥ 4000 student or data science ≤ 80% org adopted.\n",
        "\n",
        "- Test Statistic <= Critical Value: Fail to reject the null hypothesis of the statistical test.\n",
        "- Test Statistic > Critical Value: Reject the null hypothesis of the statistical test.\n",
        "\n",
        "8. Two-tailed test  :- A two-tailed test is a statistical test in which the critical area of a distribution is two-sided and tests whether a sample is greater than or less than a certain range of values. If the sample being tested falls into either of the critical areas, the alternative hypothesis is accepted instead of the null hypothesis.\n",
        "Example : a college != 4000 student or data science != 80% org adopted\n",
        "\n",
        "- Lower CR <= Test Statistic <= Upper CR: Failure to reject the null hypothesis of the statistical test.\n",
        "- Test Statistic < Lower CR OR Test Statistic > Upper CR: Reject the null hypothesis of the statistical test.\n",
        "\n",
        "![image-3.png](attachment:image-3.png)\n",
        "\n",
        "9. P value : The P value, or calculated probability, is the probability of finding the observed, or more extreme, results when the null hypothesis (H0) of a study question is true – the definition of ‘extreme’ depends on how the hypothesis is being tested. P is also described in terms of rejecting H0 when it is actually true, however, it is not a direct probability of this state.\n",
        "\n",
        "`Example : you have a coin and you don’t know whether that is fair or tricky so let’s decide null and alternate hypothesis\n",
        "H0 : a coin is a fair coin.\n",
        "H1 : a coin is a tricky coin. and alpha = 5% or 0.05\n",
        "Now let’s toss the coin and calculate p- value ( probability value).\n",
        "Toss a coin 1st time and result is tail- P-value = 50% (as head and tail have equal probability)\n",
        "Toss a coin 2nd time and result is tail, now p-value = 50/2 = 25%\n",
        "and similarly we Toss 6 consecutive time and got result as P-value = 1.5% but we set our significance level as 95% means 5% error rate we allow and here we see we are beyond that level i.e. our null- hypothesis does not hold good so we need to reject and propose that this coin is a tricky coin which is actually.`\n",
        "\n",
        "10. Degrees of Freedom : Degrees of Freedom refers to the maximum number of logically independent values, which are values that have the freedom to vary, in the data sample.\n",
        "\n",
        "11. Z Score:  z-score (also called a standard score) gives you an idea of how far from the mean a data point is. But more technically it’s a measure of how many standard deviations below or above the population mean a raw score is.\n",
        "\n",
        "The basic z score formula for a sample is:\n",
        "\n",
        "z = (x – μ) / σ\n",
        "\n",
        "For example, let’s say you have a test score of 190. The test has a mean (μ) of 150 and a standard deviation (σ) of 25. Assuming a normal distribution, your z score would be:\n",
        "\n",
        "z = (x – μ) / σ<br>\n",
        "z= (190 – 150) / 25 = 1.6.<br>\n",
        "The z score tells you how many standard deviations from the mean your score is. In this example, your score is 1.6 standard deviations above the mean.\n",
        "\n",
        "\n",
        "\n",
        "### Statistical method when population information is known\n",
        "\n",
        "- step 1: create the hypothesis (Null and Alternate Hypothesis)\n",
        "- Step 2: Appropriate statistical test\n",
        "- step 3: let set $\\alpha$ as .05 i.e Type l error\n",
        "- step 4: Get data\n",
        "- Step 5: Analyze\n",
        "\n",
        "\n",
        "$$z= \\frac{\\bar{x}-\\mu}{\\frac{\\sigma}{\\sqrt n}}$$\n",
        "$$H_{o}: \\space \\space  \\mu = 150$$$$H_{a}: \\space \\space  \\mu \\ne 150$$\n",
        "\n",
        "Above you can see that here null Hypothesis is that mean height of students is 150 and alternate hypothesis is mean height not equal to 150. \n",
        "\n",
        "#### Using Z table\n",
        "\n",
        "\n",
        "\n"
      ]
    },
    {
      "cell_type": "markdown",
      "metadata": {
        "id": "SNlzabCs0O24"
      },
      "source": [
        "# **`WATCH VIDEOS IN THE PORTAL`**"
      ]
    },
    {
      "cell_type": "markdown",
      "metadata": {
        "id": "wPJ3TRqu0Ud3"
      },
      "source": [
        "## **`Watch Video 1-7 : Hypothesis Intuition To Z test `**"
      ]
    },
    {
      "cell_type": "code",
      "execution_count": 1,
      "metadata": {
        "id": "YYztuuQLzvPU"
      },
      "outputs": [],
      "source": [
        "# import pandas, numpy and math libraries\n",
        "import pandas as pd \n",
        "import numpy as np\n",
        "import math\n",
        "\n"
      ]
    },
    {
      "cell_type": "code",
      "execution_count": 2,
      "metadata": {
        "id": "ZrDfSNBmzvPV"
      },
      "outputs": [],
      "source": [
        "#read Height.csv data\n",
        "data=pd.read_csv('Height.csv')\n"
      ]
    },
    {
      "cell_type": "code",
      "execution_count": 4,
      "metadata": {
        "id": "FxHx-mEYzvPV",
        "outputId": "977de45c-0bb7-43a4-ea20-f03b513e5ebe"
      },
      "outputs": [
        {
          "data": {
            "text/plain": [
              "150.03227993729112"
            ]
          },
          "execution_count": 4,
          "metadata": {},
          "output_type": "execute_result"
        }
      ],
      "source": [
        "#print mean height\n",
        "data['Height'].mean()"
      ]
    },
    {
      "cell_type": "markdown",
      "metadata": {
        "id": "zcJ2GW4NzvPW"
      },
      "source": [
        "Let's take 100 sample from the above given population"
      ]
    },
    {
      "cell_type": "code",
      "execution_count": 5,
      "metadata": {
        "id": "DlzrvFUxzvPW"
      },
      "outputs": [],
      "source": [
        "#100 random sample of data with random state=1\n",
        "sampData=data['Height'].sample(100,random_state=1)\n"
      ]
    },
    {
      "cell_type": "code",
      "execution_count": 6,
      "metadata": {
        "id": "efPp2v9VzvPX",
        "outputId": "661f7620-e104-4dc4-d48a-9cd3a164a1e0"
      },
      "outputs": [
        {
          "data": {
            "text/plain": [
              "507    150.539230\n",
              "818    148.659965\n",
              "452    148.930840\n",
              "368    151.689354\n",
              "242    149.516885\n",
              "          ...    \n",
              "671    158.378735\n",
              "559    147.581484\n",
              "593    144.697947\n",
              "258    140.460518\n",
              "154    149.464342\n",
              "Name: Height, Length: 100, dtype: float64"
            ]
          },
          "execution_count": 6,
          "metadata": {},
          "output_type": "execute_result"
        }
      ],
      "source": [
        "# print sample Data\n",
        "sampData"
      ]
    },
    {
      "cell_type": "code",
      "execution_count": 8,
      "metadata": {
        "id": "77jDxmMUzvPX",
        "outputId": "59ae4970-2438-4fce-812b-29297510b4c9"
      },
      "outputs": [
        {
          "name": "stderr",
          "output_type": "stream",
          "text": [
            "C:\\Users\\HP\\AppData\\Local\\Temp\\ipykernel_11556\\768167192.py:5: UserWarning: \n",
            "\n",
            "`distplot` is a deprecated function and will be removed in seaborn v0.14.0.\n",
            "\n",
            "Please adapt your code to use either `displot` (a figure-level function with\n",
            "similar flexibility) or `histplot` (an axes-level function for histograms).\n",
            "\n",
            "For a guide to updating your code to use the new functions, please see\n",
            "https://gist.github.com/mwaskom/de44147ed2974457ad6372750bbe5751\n",
            "\n",
            "  sns.distplot(data['Height'],color='maroon')\n"
          ]
        },
        {
          "data": {
            "text/plain": [
              "Text(0.5, 1.015, 'Distribution of height of students in a school')"
            ]
          },
          "execution_count": 8,
          "metadata": {},
          "output_type": "execute_result"
        },
        {
          "data": {
            "image/png": "[encoded data removed]",
            "text/plain": [
              "<Figure size 640x480 with 1 Axes>"
            ]
          },
          "metadata": {},
          "output_type": "display_data"
        }
      ],
      "source": [
        "# import matplotlib and seaborn\n",
        "import matplotlib.pyplot as plt\n",
        "import seaborn as sns \n",
        "#plot density plot for above data\n",
        "sns.distplot(data['Height'],color='maroon')\n",
        "plt.xlabel('height [inches]',labelpad=14)\n",
        "plt.ylabel('probability of occurance',labelpad=14)\n",
        "plt.title('Distribution of height of students in a school',y=1.015,fontsize=20)\n"
      ]
    },
    {
      "cell_type": "code",
      "execution_count": 9,
      "metadata": {
        "id": "1ge1SGa1zvPY"
      },
      "outputs": [],
      "source": [
        "#mean of sampData\n",
        "meanSampData=sampData.mean()\n",
        "\n",
        "#hypothesis mean (to be 150 as described in problem explanation)\n",
        "hypMean=150\n",
        "\n",
        "#No. of samples( 100)\n",
        "N=100\n",
        "\n",
        "#standard deviation of data\n",
        "standPop=np.std(data['Height'])"
      ]
    },
    {
      "cell_type": "markdown",
      "metadata": {
        "id": "0elekIetzvPY"
      },
      "source": [
        "### This is a 2 sided test\n",
        "value of $z$ at .05 making it .025 for 2 sided which makes probability for one side as 1-0.025=0.975\n",
        "\n",
        "- Go to the Z table and check vertically under alpha 0.05 where is 0.975\n",
        "- Note down the z value horizontally at left direction in the same row\n",
        "\n",
        "\n",
        "we know from $z table$ we get z score as  $\\underline{+}$1.9\n",
        "\n"
      ]
    },
    {
      "cell_type": "markdown",
      "metadata": {
        "id": "7mG3XamXzvPY"
      },
      "source": [
        "Computing Z score value using given formula\n",
        "$$z= \\frac{\\bar{x}-\\mu}{\\frac{\\sigma}{\\sqrt n}}$$\n"
      ]
    },
    {
      "cell_type": "code",
      "execution_count": 10,
      "metadata": {
        "id": "AKGVLjExzvPZ",
        "outputId": "095fd4a9-176c-4f23-f063-1bd464bba1dc"
      },
      "outputs": [
        {
          "name": "stdout",
          "output_type": "stream",
          "text": [
            "-0.6292260724919704\n"
          ]
        }
      ],
      "source": [
        "#calculate z according to above formula\n",
        "z=(meanSampData-hypMean)/(standPop/math.sqrt(N))\n",
        "\n",
        "# print z\n",
        "print(z)"
      ]
    },
    {
      "cell_type": "markdown",
      "metadata": {
        "id": "r2wRx8XGzvPZ"
      },
      "source": [
        "- as calculated z score -0.63 is greater than -1.9 (tabular z score), we fail to reject the null hypothesis\n",
        "\n",
        "- if also we would have got +0.63 is less than +1.9 we would have fail to reject the Null hypothesis\n",
        "\n",
        "- Observed value = -0.63\n",
        "\n",
        "- Critical value = -1.9\n",
        "\n",
        "##### We made a Type l error, as the value is actually = 150\n",
        "\n",
        "## p-value (observed significance level)\n",
        "\n",
        "Another way to reach a statistical conclusion in hypothesis testing problems is by using the p-value\n",
        "\n",
        "The p-value defines the smallest probability ($\\alpha$) for which the null hypothesis can be rejected.\n",
        "\n",
        "let say $\\alpha = .05$\n",
        "\n",
        "- if p < .05 strong evidence against the $H_{o}$, hence reject the Null Hypothesis\n",
        "- if p > .05 weak evidence against the $H_{o}$, hence fail to reject the Null Hypothesis\n",
        "- if near to .05 not sure\n",
        "\n",
        "\n",
        "Example\n",
        "let say observed z value is -0.63. Find its probability w.r.t alpha 0.05 from z table and print it below:\n",
        "\n",
        "\n"
      ]
    },
    {
      "cell_type": "code",
      "execution_count": 11,
      "metadata": {
        "id": "HIti73EtzvPZ",
        "outputId": "5a05e3a2-33df-4028-8d6d-a9ac47b1f39f"
      },
      "outputs": [
        {
          "name": "stdout",
          "output_type": "stream",
          "text": [
            "probability=  0.2578\n"
          ]
        }
      ],
      "source": [
        "# print probability by looking into the z table\n",
        "print('probability= ', .2578)"
      ]
    },
    {
      "cell_type": "markdown",
      "metadata": {
        "id": "YUvlfunezvPZ"
      },
      "source": [
        "Calculate the P value using formula (1- probability) and print it below:\n",
        "\n",
        "\n",
        "The p-value would be 1-.994 = .006\n",
        "\n"
      ]
    },
    {
      "cell_type": "code",
      "execution_count": 12,
      "metadata": {
        "id": "N1dfUFKszvPa",
        "outputId": "890ec638-1b9c-475c-f43b-681ba1af1b7c"
      },
      "outputs": [
        {
          "name": "stdout",
          "output_type": "stream",
          "text": [
            "p Value=  0.7422\n"
          ]
        }
      ],
      "source": [
        "# print p Value\n",
        "print('p Value= ',1- .2578)"
      ]
    },
    {
      "cell_type": "markdown",
      "metadata": {
        "id": "EuzkNDOszvPa"
      },
      "source": [
        "Using the above info we fail to reject the $H_{o}$ at $\\alpha=.05$ as p value i greater than alpha\n",
        "\n",
        "but we can reject the $H_{o}$ at $\\alpha=.80$ as 0.74 < 0.80 but >0.05\n",
        "\n",
        "\n",
        "#### Using T Table\n",
        "\n",
        "\n",
        "We also have t table to do hypothesis testing . Now question is what is the difference between both. Check below flow chart to understand its use and difference\n",
        "\n",
        "\n",
        "![image.png](attachment:image.png)\n",
        "\n",
        "\n",
        "Example if you take above example u have test statistic value as 0.63. Let's check in T table the tail probability when sample size is 20 "
      ]
    },
    {
      "cell_type": "code",
      "execution_count": 13,
      "metadata": {
        "id": "XUFrXHUNzvPa",
        "outputId": "8d3b4e66-a1f4-4536-af56-661815388eb5"
      },
      "outputs": [
        {
          "name": "stdout",
          "output_type": "stream",
          "text": [
            "19\n"
          ]
        }
      ],
      "source": [
        "#Print degree of freedom for above case\n",
        "print(20-1)\n"
      ]
    },
    {
      "cell_type": "code",
      "execution_count": 14,
      "metadata": {
        "id": "Pq1sS2ENzvPa",
        "outputId": "a0f93509-b714-48ea-f206-01eba5f984d2"
      },
      "outputs": [
        {
          "name": "stdout",
          "output_type": "stream",
          "text": [
            "0.63\n"
          ]
        }
      ],
      "source": [
        "#print tail probability looking into t table for dof as above and test stats as 0.63\n",
        "\n",
        "print(0.63)"
      ]
    },
    {
      "cell_type": "markdown",
      "metadata": {
        "id": "Zm2Nl1etzvPa"
      },
      "source": [
        "So above You can see we got t probability as 0.688 for one tail test.\n",
        "\n",
        "Since 0.688>0.05, we fail to reject the null hypothesis and hence using T table also we got the ame result as we got looking into Z table.\n"
      ]
    },
    {
      "cell_type": "markdown",
      "metadata": {
        "id": "staGrQYzzvPb"
      },
      "source": [
        "\n",
        "Hope you understood the statistical method for doing Hypothesis Testing. Now you must be thinking this is such a manual process to do Hypothesis Testing, don't worry scipy has made our work far easier by providing awesome libraries use various testing methods.\n",
        "\n",
        "Let’s see some of widely used hypothesis testing type :-\n",
        "\n",
        "- T Test ( Student T test)\n",
        "- Z Test\n",
        "- ANOVA Test\n",
        "- Chi-Square Test\n",
        "\n",
        " \n",
        "## 1. T- Test \n",
        "\n",
        "A t-test is a type of inferential statistic which is used to determine if there is a significant difference between the means of two groups which may be related in certain features. It is mostly used when the data sets, like the set of data recorded as outcome from flipping a coin a 100 times, would follow a normal distribution and may have unknown variances. T test is used as a hypothesis testing tool, which allows testing of an assumption applicable to a population.\n",
        "T-test has 2 types : \n",
        "- one sampled t-test \n",
        "- two-sampled t-test.\n",
        "\n",
        "### 2.1 One sampled t-test \n",
        "\n",
        "Reference doc: https://docs.scipy.org/doc/scipy/reference/generated/scipy.stats.ttest_1samp.html\n",
        "\n",
        "\n",
        "One sample t-test : The One Sample t Test determines whether the sample mean is statistically different from a known or hypothesised population mean. The One Sample Test is a parametric test.\n",
        "\n",
        "Example :- you have 100 heights and you are checking whether avg age is 150 or not"
      ]
    },
    {
      "cell_type": "markdown",
      "metadata": {
        "id": "nZLY3O6e2GL3"
      },
      "source": [
        "## **`Watch Videos 8-12: T-test to paired T-test`**"
      ]
    },
    {
      "cell_type": "code",
      "execution_count": 15,
      "metadata": {
        "id": "OOGZTfPjzvPb",
        "outputId": "3d0f6ad6-42ec-4393-d5d0-ed1d17d16464"
      },
      "outputs": [
        {
          "name": "stdout",
          "output_type": "stream",
          "text": [
            "150.03227993729112\n",
            "p Value 0.0\n",
            "we are rejecting null hypothesis\n"
          ]
        }
      ],
      "source": [
        "# importing stats  library for scipy\n",
        "import scipy.stats as stats\n",
        "\n",
        "# mean height\n",
        "height_mean = data['Height'].mean()\n",
        "\n",
        "#print mean height\n",
        "print(height_mean)\n",
        "\n",
        "#use ttest_1samp on 100 sample of data\n",
        "\n",
        "tset, pval = stats.ttest_1samp(data['Height'],100)\n",
        "\n",
        "#print P value\n",
        "print('p Value',pval)\n",
        "\n",
        "# Interpreting P value\n",
        "\n",
        "if pval < 0.05:    # alpha value is 0.05 or 5%\n",
        "    print(\"we are rejecting null hypothesis\")\n",
        "else:\n",
        "    print(\"we are accepting null hypothesis\")\n"
      ]
    },
    {
      "cell_type": "markdown",
      "metadata": {
        "id": "brbrFDfAzvPb"
      },
      "source": [
        "Above you can see that p value is less than the alpha, hence we reject null hypothesis, that means average height is not 150.\n",
        "\n",
        "### 2.2 Two sampled T-test\n",
        "\n",
        "Reference doc:https://docs.scipy.org/doc/scipy/reference/generated/scipy.stats.ttest_ind.html\n",
        "\n",
        "\n",
        "The Independent Samples t Test or 2-sample t-test compares the means of two independent groups in order to determine whether there is statistical evidence that the associated population means are significantly different. The Independent Samples t Test is a parametric test. This test is also known as: Independent t Test.\n",
        "\n",
        "For this upload the Class_Age dataset from your canvas account"
      ]
    },
    {
      "cell_type": "code",
      "execution_count": 16,
      "metadata": {
        "id": "0tb2otbjzvPb"
      },
      "outputs": [],
      "source": [
        "#read Class_Age.csv\n",
        "ClassAge= pd.read_csv('Class_Age.csv')\n",
        "\n",
        "#get 100 sample of classA age with random state=1\n",
        "A=ClassAge['Class_A_Age'].sample(100,random_state=1)\n",
        "\n",
        "#get 100 sample of classB age with random state=1\n",
        "\n",
        "B=ClassAge['Class_B_Age'].sample(100,random_state=1)\n"
      ]
    },
    {
      "cell_type": "code",
      "execution_count": 17,
      "metadata": {
        "id": "LS-AXAGzzvPb",
        "outputId": "93e27541-07e1-4d54-ad5d-0f3826e6cd5a"
      },
      "outputs": [
        {
          "name": "stdout",
          "output_type": "stream",
          "text": [
            "Class A mean 53.44\n",
            "Class B mean 47.34\n"
          ]
        }
      ],
      "source": [
        "# print mean of A\n",
        "print('Class A mean',A.mean())\n",
        "\n",
        "# print mean of B\n",
        "print('Class B mean',B.mean())\n",
        "\n"
      ]
    },
    {
      "cell_type": "code",
      "execution_count": 18,
      "metadata": {
        "id": "OhGUaS15zvPc",
        "outputId": "c17efd20-3fdb-49a6-bcce-5355214d8130"
      },
      "outputs": [
        {
          "name": "stdout",
          "output_type": "stream",
          "text": [
            "7.0797543357460795e-12\n",
            " we are rejecting null hypothesis\n"
          ]
        }
      ],
      "source": [
        "# get p value using ttest_ind with equal_var=False\n",
        "_,p_value=stats.ttest_ind(a=A,b=B,equal_var=False)\n",
        "\n",
        "#print p values\n",
        "print(p_value)\n",
        "# Interpreting p value\n",
        "\n",
        "if p_value < 0.05:    # alpha value is 0.05 or 5%\n",
        "    print(\" we are rejecting null hypothesis\")\n",
        "else:\n",
        "    print(\"we are accepting null hypothesis\")"
      ]
    },
    {
      "cell_type": "markdown",
      "metadata": {
        "id": "1iEOdHzfzvPc"
      },
      "source": [
        "Above you can see that P_value has come less than  alpha( 0.05 ), so we are rejecting null hypothesis\n",
        "\n",
        "### 2.3 Paired sampled t-test\n",
        "\n",
        "\n",
        "The paired sample t-test is also called dependent sample t-test. It’s an uni variate test that tests for a significant difference between 2 related variables. An example of this is if you where to collect the blood pressure for an individual before and after some treatment, condition, or time point.\n",
        "- H0 :- means difference between two sample is 0\n",
        "- H1:- mean difference between two sample is not 0\n",
        "\n",
        "Let us tests for a significant difference between age of 2 Classes 'A' and 'B'"
      ]
    },
    {
      "cell_type": "code",
      "execution_count": 19,
      "metadata": {
        "id": "ndBWhXlxzvPc",
        "outputId": "bfc189e1-f380-48f8-ed89-767aa3533980"
      },
      "outputs": [
        {
          "data": {
            "text/html": [
              "<div>\n",
              "<style scoped>\n",
              "    .dataframe tbody tr th:only-of-type {\n",
              "        vertical-align: middle;\n",
              "    }\n",
              "\n",
              "    .dataframe tbody tr th {\n",
              "        vertical-align: top;\n",
              "    }\n",
              "\n",
              "    .dataframe thead th {\n",
              "        text-align: right;\n",
              "    }\n",
              "</style>\n",
              "<table border=\"1\" class=\"dataframe\">\n",
              "  <thead>\n",
              "    <tr style=\"text-align: right;\">\n",
              "      <th></th>\n",
              "      <th>Class_A_Age</th>\n",
              "      <th>Class_B_Age</th>\n",
              "    </tr>\n",
              "  </thead>\n",
              "  <tbody>\n",
              "    <tr>\n",
              "      <th>count</th>\n",
              "      <td>2000.000000</td>\n",
              "      <td>2000.000000</td>\n",
              "    </tr>\n",
              "    <tr>\n",
              "      <th>mean</th>\n",
              "      <td>53.232500</td>\n",
              "      <td>48.183500</td>\n",
              "    </tr>\n",
              "    <tr>\n",
              "      <th>std</th>\n",
              "      <td>6.073622</td>\n",
              "      <td>5.454512</td>\n",
              "    </tr>\n",
              "    <tr>\n",
              "      <th>min</th>\n",
              "      <td>37.000000</td>\n",
              "      <td>32.000000</td>\n",
              "    </tr>\n",
              "    <tr>\n",
              "      <th>25%</th>\n",
              "      <td>49.000000</td>\n",
              "      <td>44.000000</td>\n",
              "    </tr>\n",
              "    <tr>\n",
              "      <th>50%</th>\n",
              "      <td>53.000000</td>\n",
              "      <td>48.000000</td>\n",
              "    </tr>\n",
              "    <tr>\n",
              "      <th>75%</th>\n",
              "      <td>57.000000</td>\n",
              "      <td>52.000000</td>\n",
              "    </tr>\n",
              "    <tr>\n",
              "      <th>max</th>\n",
              "      <td>79.000000</td>\n",
              "      <td>66.000000</td>\n",
              "    </tr>\n",
              "  </tbody>\n",
              "</table>\n",
              "</div>"
            ],
            "text/plain": [
              "       Class_A_Age  Class_B_Age\n",
              "count  2000.000000  2000.000000\n",
              "mean     53.232500    48.183500\n",
              "std       6.073622     5.454512\n",
              "min      37.000000    32.000000\n",
              "25%      49.000000    44.000000\n",
              "50%      53.000000    48.000000\n",
              "75%      57.000000    52.000000\n",
              "max      79.000000    66.000000"
            ]
          },
          "execution_count": 19,
          "metadata": {},
          "output_type": "execute_result"
        }
      ],
      "source": [
        "# describe Class A age and Class B age\n",
        "ClassAge[['Class_A_Age','Class_B_Age']].describe()\n"
      ]
    },
    {
      "cell_type": "markdown",
      "metadata": {
        "id": "zYbrgwx2zvPc"
      },
      "source": [
        "Above you can see that there is some difference between 2 classes. Lets test it using hypothesis testing \n",
        "\n",
        "Reference: https://docs.scipy.org/doc/scipy/reference/generated/scipy.stats.ttest_rel.html"
      ]
    },
    {
      "cell_type": "code",
      "execution_count": 20,
      "metadata": {
        "id": "m8vmtd9gzvPc",
        "outputId": "c3173cbc-3ab3-464d-de5f-cfd68ce99c40"
      },
      "outputs": [
        {
          "name": "stdout",
          "output_type": "stream",
          "text": [
            "7.0797543357460795e-12\n",
            "reject null hypothesis\n"
          ]
        }
      ],
      "source": [
        "# importing stats  library for scipy\n",
        "import scipy.stats as stats\n",
        "# Apply ttest_rel on A and B\n",
        "ttest,pval = stats.ttest_rel(A,B)\n",
        "\n",
        "# print p value\n",
        "print(p_value)\n",
        "# Interpreting P values\n",
        "\n",
        "if pval<0.05:\n",
        "    print(\"reject null hypothesis\")\n",
        "else:\n",
        "    print(\"accept null hypothesis\")"
      ]
    },
    {
      "cell_type": "markdown",
      "metadata": {
        "id": "tj-a3vgbzvPd"
      },
      "source": [
        "## 3. Z Test\n",
        "\n",
        "Reference artical: https://www.geeksforgeeks.org/z-test/\n",
        "\n",
        "You would use a Z test if:\n",
        "\n",
        "- Your sample size is greater than 30. Otherwise, use a t test.\n",
        "- Data points should be independent from each other. In other words, one data point isn’t related or doesn’t affect another data point.\n",
        "- Your data should be normally distributed. However, for large sample sizes (over 30) this doesn’t always matter.\n",
        "- Your data should be randomly selected from a population, where each item has an equal chance of being selected.\n",
        "- Sample sizes should be equal if at all possible.\n",
        "\n",
        "This is also of two type:\n",
        "- One-sample Z test- The One Sample t Test determines whether the sample mean is statistically different from a known or hypothesised population mean\n",
        "- Two-sample Z test- In two sample z-test , similar to t-test here we are checking two independent data groups and deciding whether sample mean of two group is equal or not.\n",
        "\n",
        "\n",
        "#### 3.1 One-sample Z test\n",
        "\n",
        "Earlier in Statistical method you have calculated Z value using the formula: \n",
        "\n",
        "$$z= \\frac{\\bar{x}-\\mu}{\\frac{\\sigma}{\\sqrt n}}$$\n",
        "\n",
        "Now we will be doing the same thing using scipy library to do one sample Z test to check if mean value in  data['Height'] is 150 or not\n",
        "\n",
        "reference doc: https://www.statsmodels.org/dev/generated/statsmodels.stats.weightstats.ztest.html "
      ]
    },
    {
      "cell_type": "code",
      "execution_count": 21,
      "metadata": {
        "id": "z3oZnMOQzvPd",
        "outputId": "7a948684-25db-48a7-cc96-31fe14164551"
      },
      "outputs": [
        {
          "name": "stdout",
          "output_type": "stream",
          "text": [
            "0.0\n",
            "reject null hypothesis\n"
          ]
        }
      ],
      "source": [
        "# importing weightstats as stests\n",
        "from statsmodels.stats import weightstats as stests\n",
        "\n",
        "# get ztest score and p value using ztest where x2=None and value =100\n",
        "ztest ,pval = stests.ztest(data['Height'],x2=None,value=100)\n",
        "\n",
        "#print(p value)\n",
        "print(float(pval))\n",
        "\n",
        "#Interpreting P value\n",
        "if pval<0.05:\n",
        "    print(\"reject null hypothesis\")\n",
        "else:\n",
        "    print(\"accept null hypothesis\")\n"
      ]
    },
    {
      "cell_type": "markdown",
      "metadata": {
        "id": "T2MRiSlbzvPd"
      },
      "source": [
        "#### 3.2 Two-sample Z test\n",
        "In two sample z-test , similar to t-test here we are checking two independent data groups and deciding whether sample mean of two group is equal or not.\n",
        "- H0 : mean of two group is 0\n",
        "- H1 : mean of two group is not 0\n",
        "\n",
        "\n",
        "Let us check if A and B group are having same average age or not"
      ]
    },
    {
      "cell_type": "code",
      "execution_count": 22,
      "metadata": {
        "id": "X_XqAISgzvPd",
        "outputId": "6f6ef2bb-99f3-4bb0-8858-5d29488f57b3"
      },
      "outputs": [
        {
          "name": "stdout",
          "output_type": "stream",
          "text": [
            "2.9503043378322366e-13\n",
            "reject null hypothesis\n"
          ]
        }
      ],
      "source": [
        "# get ztest score and p value using ztest where x2=B and alternative =two-sided\n",
        "ztest ,pval1 = stests.ztest(A,x2=B,value=0,alternative='two-sided')\n",
        "\n",
        "#printing P value\n",
        "print(float(pval1))\n",
        "\n",
        "# Interpreting P value\n",
        "if pval<0.05:\n",
        "    print(\"reject null hypothesis\")\n",
        "else:\n",
        "    print(\"accept null hypothesis\")"
      ]
    },
    {
      "cell_type": "markdown",
      "metadata": {
        "id": "12Q5XRMnzvPd"
      },
      "source": [
        "### 4. ANOVA (F-TEST) \n",
        "\n",
        "Reference video: https://www.youtube.com/watch?v=AhZ-hllEVxs\n",
        "\n",
        "The t-test works well when dealing with two groups, but sometimes we want to compare more than two groups at the same time. For example, if we wanted to test whether voter age differs based on some categorical variable like race, we have to compare the means of each level or group the variable. We could carry out a separate t-test for each pair of groups, but when you conduct many tests you increase the chances of false positives. The analysis of variance or ANOVA is a statistical inference test that lets you compare multiple groups at the same time.\n",
        "\n",
        "F = Between group variability / Within group variability\n",
        "\n",
        "\n",
        "![image.png](attachment:image.png)\n",
        "\n",
        "Unlike the z and t-distributions, the F-distribution does not have any negative values because between and within-group variability are always positive due to squaring each deviation.\n",
        "\n",
        "\n",
        "Assumptions\n",
        "\n",
        "- Observations in each sample are independent and identically distributed (iid).\n",
        "- Observations in each sample are normally distributed.\n",
        "- Observations in each sample have the same variance.\n",
        "\n",
        "Interpretation\n",
        "\n",
        "- H0: the means of the samples are equal.\n",
        "- H1: one or more of the means of the samples are unequal.\n",
        "\n",
        "\n",
        "F-test has two types:-\n",
        "- One Way F-test\n",
        "- Two Way F-test\n",
        "\n",
        "\n",
        "#### 4.1 One Way F-test(Anova)\n",
        "\n",
        "It tells whether two or more groups are similar or not based on their mean similarity and f-score.\n",
        "\n",
        "\n",
        "Let's check in ClassAge if age of Class A, B and  average weight have some similarities \n"
      ]
    },
    {
      "cell_type": "markdown",
      "metadata": {
        "id": "t4M3eRPb2xIy"
      },
      "source": [
        "## **`Watch Videos 13-16: Chi2 test to Anova`**"
      ]
    },
    {
      "cell_type": "code",
      "execution_count": 23,
      "metadata": {
        "id": "YU0gAkqmzvPd"
      },
      "outputs": [],
      "source": [
        "#get 100 sample of weight with random state=1\n",
        "\n",
        "Weight=ClassAge['Weight'].sample(100,random_state=1)"
      ]
    },
    {
      "cell_type": "code",
      "execution_count": 24,
      "metadata": {
        "id": "9qFavzMpzvPe",
        "outputId": "0ad7b016-eb34-4978-a1c2-8cda19d58e91"
      },
      "outputs": [
        {
          "name": "stdout",
          "output_type": "stream",
          "text": [
            "stat=53.255,p=0.000\n",
            "Probably different distributions\n"
          ]
        }
      ],
      "source": [
        "# get statistical test value and p value using f_oneway() function, passing A, B and Weight\n",
        "stat, p = stats.f_oneway(A,B,Weight)\n",
        "\n",
        "#print stat and p\n",
        "print('stat=%.3f,p=%.3f' %(stat,p) )\n",
        "\n",
        "# Interpreting P value\n",
        "if p > 0.05:\n",
        "    print('Probably the same distribution')\n",
        "else:\n",
        "    print('Probably different distributions')"
      ]
    },
    {
      "cell_type": "markdown",
      "metadata": {
        "id": "vS0Oq-N9zvPe"
      },
      "source": [
        "#### 4.1 Two Way F-test(Anova)\n",
        "\n",
        "Two way F-test is extension of 1-way f-test, it is used when we have 2 independent variable and 2+ groups. 2-way F-test does not tell which variable is dominant. if we need to check individual significance then Post-hoc testing need to be performed.\n",
        "\n",
        "we’ll perform the two-way ANOVA using the anova_lm() function from the statsmodels library:\n",
        "\n",
        "First, we’ll create a pandas DataFrame that contains the following three variables:\n",
        "\n",
        "- **water:** how frequently each plant was watered: daily or weekly\n",
        "- **sun:** how much sunlight exposure each plant received: low, medium, or high\n",
        "- **height:** the height of each plant (in inches) after two months"
      ]
    },
    {
      "cell_type": "code",
      "execution_count": 25,
      "metadata": {
        "id": "qgbSD6kEzvPe"
      },
      "outputs": [],
      "source": [
        "# We are creating a dataframe for out test analysis \n",
        "df = pd.DataFrame({'water': np.repeat(['daily', 'weekly'], 15),\n",
        "                   'sun': np.tile(np.repeat(['low', 'med', 'high'], 5), 2),\n",
        "                   'height': [6, 6, 6, 5, 6, 5, 5, 6, 4, 5,\n",
        "                              6, 6, 7, 8, 7, 3, 4, 4, 4, 5,\n",
        "                              4, 4, 4, 4, 4, 5, 6, 6, 7, 8]})"
      ]
    },
    {
      "cell_type": "markdown",
      "metadata": {
        "id": "E7lvAi1tzvPe"
      },
      "source": [
        "A two-way ANOVA will allow you to see which of these two factors, water and sun, have a significant effect on height of the plant."
      ]
    },
    {
      "cell_type": "code",
      "execution_count": 27,
      "metadata": {
        "id": "ha2ZnO-6zvPe",
        "outputId": "93b55b28-fd8c-4bdc-ea0f-4b7515a94d69"
      },
      "outputs": [
        {
          "data": {
            "text/html": [
              "<div>\n",
              "<style scoped>\n",
              "    .dataframe tbody tr th:only-of-type {\n",
              "        vertical-align: middle;\n",
              "    }\n",
              "\n",
              "    .dataframe tbody tr th {\n",
              "        vertical-align: top;\n",
              "    }\n",
              "\n",
              "    .dataframe thead th {\n",
              "        text-align: right;\n",
              "    }\n",
              "</style>\n",
              "<table border=\"1\" class=\"dataframe\">\n",
              "  <thead>\n",
              "    <tr style=\"text-align: right;\">\n",
              "      <th></th>\n",
              "      <th>sum_sq</th>\n",
              "      <th>df</th>\n",
              "      <th>F</th>\n",
              "      <th>PR(&gt;F)</th>\n",
              "    </tr>\n",
              "  </thead>\n",
              "  <tbody>\n",
              "    <tr>\n",
              "      <th>C(water)</th>\n",
              "      <td>8.533333</td>\n",
              "      <td>1.0</td>\n",
              "      <td>16.0000</td>\n",
              "      <td>0.000527</td>\n",
              "    </tr>\n",
              "    <tr>\n",
              "      <th>C(sun)</th>\n",
              "      <td>24.866667</td>\n",
              "      <td>2.0</td>\n",
              "      <td>23.3125</td>\n",
              "      <td>0.000002</td>\n",
              "    </tr>\n",
              "    <tr>\n",
              "      <th>C(water):C(sun)</th>\n",
              "      <td>2.466667</td>\n",
              "      <td>2.0</td>\n",
              "      <td>2.3125</td>\n",
              "      <td>0.120667</td>\n",
              "    </tr>\n",
              "    <tr>\n",
              "      <th>Residual</th>\n",
              "      <td>12.800000</td>\n",
              "      <td>24.0</td>\n",
              "      <td>NaN</td>\n",
              "      <td>NaN</td>\n",
              "    </tr>\n",
              "  </tbody>\n",
              "</table>\n",
              "</div>"
            ],
            "text/plain": [
              "                    sum_sq    df        F    PR(>F)\n",
              "C(water)          8.533333   1.0  16.0000  0.000527\n",
              "C(sun)           24.866667   2.0  23.3125  0.000002\n",
              "C(water):C(sun)   2.466667   2.0   2.3125  0.120667\n",
              "Residual         12.800000  24.0      NaN       NaN"
            ]
          },
          "execution_count": 27,
          "metadata": {},
          "output_type": "execute_result"
        }
      ],
      "source": [
        "# import statsmodels and ols\n",
        "import statsmodels.api as sm\n",
        "from statsmodels.formula.api import ols \n",
        "\n",
        "#perform two-way ANOVA by passing 'height ~ C(water) + C(sun) + C(water):C(sun)' in ols and fitting it\n",
        "model = ols('height ~ C(water) + C(sun) + C(water):C(sun)',data=df).fit()\n",
        "\n",
        "#using above model in sm.stats.anova_lm() function with typ=2\n",
        "sm.stats.anova_lm(model,typ=2)"
      ]
    },
    {
      "cell_type": "markdown",
      "metadata": {
        "id": "s4rDtXsCzvPe"
      },
      "source": [
        "Step 3: Interpret the results.\n",
        "\n",
        "We can see the following p-values for each of the factors in the table:\n",
        "\n",
        "- water: p-value = .000527\n",
        "- sun: p-value = .0000002\n",
        "- water*sun: p-value = .120667\n",
        "\n",
        "Since the p-values for water and sun are both less than .05, this means that both factors have a statistically significant effect on plant height.\n",
        "\n",
        "And since the p-value for the interaction effect (.120667) is not less than .05, this tells us that there is no significant interaction effect between sunlight exposure and watering frequency.\n",
        "\n",
        "Test ANOVA assumptions\n",
        "\n",
        "##### 1. INDEPENDENCE\n",
        "This assumption is tested when the study is designed. What this means is that all groups are mutually exclusive, i.e. an individual can only belong in one group. Also, this means that the data is not repeated measures (not collected through time). In this example, this condition is met.\n",
        "\n",
        "##### 2. NORMALITY\n",
        "The assumption of normality is tested on the residuals of the model when coming from an ANOVA or regression framework. One method for testing the assumption of normality is the Shapiro-Wilk test. This can be completed using the shapiro() method from scipy.stats. Ensure that scipy.stats is imported for the following method to work. Unfortunately the output is not labelled, but it's (W-test statistic, p-value).\n",
        "\n",
        "Reference doc: https://docs.scipy.org/doc/scipy/reference/generated/scipy.stats.shapiro.html"
      ]
    },
    {
      "cell_type": "code",
      "execution_count": 29,
      "metadata": {
        "id": "LDIdAzGWzvPf",
        "outputId": "cbdd6a2f-b817-46d2-e456-2087fc8bc036"
      },
      "outputs": [
        {
          "name": "stdout",
          "output_type": "stream",
          "text": [
            "0.0372101329267025\n",
            "Sample does not look Gaussian (reject H0)\n"
          ]
        }
      ],
      "source": [
        "\n",
        "# Using model residual value in shapiro() function \n",
        "stat, Pval=stats.shapiro(model.resid)\n",
        "# print Pval\n",
        "print(Pval)\n",
        "\n",
        "# Interpreting Pval on alpha 0.05\n",
        "alpha = 0.05\n",
        "if Pval > alpha:\n",
        "    print('Sample looks Gaussian (fail to reject H0)')\n",
        "else:\n",
        "    print('Sample does not look Gaussian (reject H0)')"
      ]
    },
    {
      "cell_type": "markdown",
      "metadata": {
        "id": "skXp9DaTzvPf"
      },
      "source": [
        "The test is non-significant, W= 0.925, p= 0.0372, which indicates that the residuals are not normally distributed.\n",
        "\n",
        "Another way to test the assumption is through a visual check- this is helpful when the sample is large. The reason this is true is that as the sample size increases, the statistical test's ability to reject the null hypothesis increases, i.e. it gains power to detect smaller differences as the sample size n increases.\n",
        "\n",
        "One method of visually checking the distribution is to use a probability plot with or without the correlation value, \n",
        ", to assess the observed values correlation with the theoretical distribution in question - in the current case it would not be the Gaussian (a.k.a not normal) distribution. This can be completed by using the probplot() method from Scipy.stats. If using the \n",
        " measure, one can refer to the NIST/SEMATECH e-handbook of statistical methods to see if the value is significant.\n",
        " \n",
        " Reference doc: https://docs.scipy.org/doc/scipy/reference/generated/scipy.stats.probplot.html"
      ]
    },
    {
      "cell_type": "code",
      "execution_count": 30,
      "metadata": {
        "id": "qU9d83K2zvPf",
        "outputId": "ed18644a-4f5a-494f-be5f-eaf6ce462551"
      },
      "outputs": [
        {
          "data": {
            "image/png": "[encoded data removed]",
            "text/plain": [
              "<Figure size 500x500 with 1 Axes>"
            ]
          },
          "metadata": {},
          "output_type": "display_data"
        }
      ],
      "source": [
        "fig = plt.figure(figsize= (5, 5))\n",
        "ax = fig.add_subplot(111)\n",
        "\n",
        "#Generate probability plot using probplot() passing model residuals  and rvalue=True\n",
        "normality_plot, stat = stats.probplot(model.resid, plot=plt,rvalue=True)\n",
        "ax.set_title('Probaility plot of model residuals',fontsize=20)\n",
        "ax.set\n",
        "plt.show()\n"
      ]
    },
    {
      "cell_type": "markdown",
      "metadata": {
        "id": "rH3L4BgqzvPf"
      },
      "source": [
        "This is a case where the statistical testing method indicated the residuals were not normally distributed, and in the the probability plot correlation coefficient (PPCC) also indicated non-normality.\n",
        "\n",
        "###### 3. HOMOGENEITY OF VARIANCE\n",
        "\n",
        "The final assumption is that all groups have equal variances. One method for testing this assumption is the Levene's test or bartlett test  of homogeneity of variances. This can be completed using the levene() and  bartlett() method from Scipy.stats\n",
        "\n"
      ]
    },
    {
      "cell_type": "code",
      "execution_count": 32,
      "metadata": {
        "id": "BLiq8fTFzvPf",
        "outputId": "15437c8e-bb17-4332-e94a-2e50ee8e349f"
      },
      "outputs": [
        {
          "data": {
            "text/plain": [
              "array(['daily', 'weekly'], dtype=object)"
            ]
          },
          "execution_count": 32,
          "metadata": {},
          "output_type": "execute_result"
        }
      ],
      "source": [
        "# print unique categories in water variable\n",
        "df['water'].unique()"
      ]
    },
    {
      "cell_type": "markdown",
      "metadata": {
        "id": "SNjChJJOzvPf"
      },
      "source": [
        "Using pandas dataframe query fetch unique group values w.r.t height\n",
        "\n",
        "Reference doc: https://pandas.pydata.org/pandas-docs/stable/reference/api/pandas.DataFrame.query.html"
      ]
    },
    {
      "cell_type": "code",
      "execution_count": 33,
      "metadata": {
        "id": "sFz4UeRBzvPf",
        "outputId": "d9699451-6fb4-4fa9-fa80-0577c1730b9f"
      },
      "outputs": [
        {
          "name": "stdout",
          "output_type": "stream",
          "text": [
            "0    6\n",
            "1    6\n",
            "2    6\n",
            "3    5\n",
            "4    6\n",
            "Name: height, dtype: int64\n",
            "15    3\n",
            "16    4\n",
            "17    4\n",
            "18    4\n",
            "19    5\n",
            "Name: height, dtype: int64\n"
          ]
        }
      ],
      "source": [
        "# height values w.r.t daily water \n",
        "daily = df.query('water == \"daily\"')['height']\n",
        "\n",
        "# height values w.r.t weekly water \n",
        "\n",
        "weekly = df.query('water == \"weekly\"')['height']\n",
        "\n",
        "# print head of both daily and weekly\n",
        "print(daily.head())\n",
        "print(weekly.head())\n",
        "\n"
      ]
    },
    {
      "cell_type": "markdown",
      "metadata": {
        "id": "TwykWN0ZzvPg"
      },
      "source": [
        "Lets first apply bartlett() test of homogeneity of variances. \n",
        "\n",
        "Reference doc: https://docs.scipy.org/doc/scipy/reference/generated/scipy.stats.bartlett.html\n",
        "\n"
      ]
    },
    {
      "cell_type": "code",
      "execution_count": 35,
      "metadata": {
        "id": "IrGltcVTzvPg",
        "outputId": "94f3baef-f234-4f36-d13d-5546b83bbc8e"
      },
      "outputs": [
        {
          "name": "stdout",
          "output_type": "stream",
          "text": [
            "1.418366158132635 0.23367251269957973\n"
          ]
        }
      ],
      "source": [
        "#Get statistical test value and p value using bartlett\n",
        "\n",
        "stat, p =stats.bartlett(weekly,daily)\n",
        "\n",
        "\n",
        "#print stats and p \n",
        "print(stat,p)"
      ]
    },
    {
      "cell_type": "markdown",
      "metadata": {
        "id": "FkkkGk3uzvPg"
      },
      "source": [
        "As mentioned in the documentation- https://docs.scipy.org/doc/scipy/reference/generated/scipy.stats.levene.html, there are actually three different variations of Levene’s test you can use. The recommended usages are as follows:\n",
        "\n",
        "- ‘median’: recommended for skewed distributions.\n",
        "- ‘mean’: recommended for symmetric, moderate-tailed distributions.\n",
        "- ‘trimmed’: recommended for heavy-tailed distributions.\n",
        "\n",
        "The following code illustrates how to perform Levene’s test using both the mean and the median as the center:"
      ]
    },
    {
      "cell_type": "code",
      "execution_count": 36,
      "metadata": {
        "id": "FGHa8AJZzvPg",
        "outputId": "d5123ac0-a3b6-4a97-d219-ac265f32e094"
      },
      "outputs": [
        {
          "name": "stdout",
          "output_type": "stream",
          "text": [
            "0.4933920704845817 0.4882169245490562\n"
          ]
        }
      ],
      "source": [
        "#Get statistical test value and  p value using levene() on daily and weekly with center as median\n",
        "stats, pval=stats.levene(daily,weekly,center='median')\n",
        "\n",
        "# print stats and p value\n",
        "print(stats, pval)"
      ]
    },
    {
      "cell_type": "markdown",
      "metadata": {
        "id": "dPA99FFezvPg"
      },
      "source": [
        "In both methods, the p-value is not less than .05. This means in both cases we would fail to reject the null hypothesis. This means we do not have sufficient evidence to say that the variance in height growth between the two water routine is significantly different.\n",
        "\n",
        "In other words, the two groups have equal variances. If we were to perform some statistical test (like a one-way ANOVA) that assumes each group has equal variance, then this assumption would be met.\n",
        "\n",
        "Similarly you can test for sun variable by grouping it into 3 groups, low, medium and high"
      ]
    },
    {
      "cell_type": "code",
      "execution_count": 37,
      "metadata": {
        "id": "8Jxc6i4wzvPg",
        "outputId": "9ad8d345-5b52-46c5-e818-3506261aa70f"
      },
      "outputs": [
        {
          "data": {
            "text/plain": [
              "array(['low', 'med', 'high'], dtype=object)"
            ]
          },
          "execution_count": 37,
          "metadata": {},
          "output_type": "execute_result"
        }
      ],
      "source": [
        "# print unique values in sun variable\n",
        "\n",
        "df['sun'].unique()"
      ]
    },
    {
      "cell_type": "code",
      "execution_count": 38,
      "metadata": {
        "id": "QhmMuQYMzvPg",
        "outputId": "aa776aff-ac19-4122-db7f-63c98a5959d4"
      },
      "outputs": [
        {
          "name": "stdout",
          "output_type": "stream",
          "text": [
            "0    6\n",
            "1    6\n",
            "2    6\n",
            "3    5\n",
            "4    6\n",
            "Name: height, dtype: int64\n",
            "5    5\n",
            "6    5\n",
            "7    6\n",
            "8    4\n",
            "9    5\n",
            "Name: height, dtype: int64\n",
            "10    6\n",
            "11    6\n",
            "12    7\n",
            "13    8\n",
            "14    7\n",
            "Name: height, dtype: int64\n"
          ]
        }
      ],
      "source": [
        "# height values w.r.t low sunlight \n",
        "\n",
        "low = df.query('sun == \"low\"')['height']\n",
        "# height values w.r.t med sunlight \n",
        "\n",
        "med =df.query('sun == \"med\"')['height']\n",
        "# height values w.r.t high sunlight \n",
        "\n",
        "high = df.query('sun == \"high\"')['height']\n",
        "\n",
        "\n",
        "# print head of low, med and high\n",
        "print(low.head())\n",
        "print(med.head())\n",
        "print(high.head())\n",
        "\n"
      ]
    },
    {
      "cell_type": "code",
      "execution_count": 40,
      "metadata": {
        "id": "DocKlToTzvPh",
        "outputId": "c860be9f-c8cd-4bad-890f-ecd64782b40c"
      },
      "outputs": [
        {
          "name": "stdout",
          "output_type": "stream",
          "text": [
            "0.4386840769749961 0.30770911293545367\n"
          ]
        }
      ],
      "source": [
        "import scipy.stats as stats\n",
        "# Get stats and p value using bartlett() passing low ,high and med\n",
        "stat1, p1 = stats.bartlett(low,high,med)\n",
        "\n",
        "# Get stats and p value using levene() passing low ,high and med and center as median\n",
        "\n",
        "stat2, p2=stats.levene(low,high,med,center ='median')\n",
        "\n",
        "#print p1 and p2\n",
        "print(p1,p2)\n"
      ]
    },
    {
      "cell_type": "markdown",
      "metadata": {
        "id": "5qvcKu_kzvPh"
      },
      "source": [
        "In above 2 p values form bartlett and levene methods three groups of sun have equal variances.\n",
        "\n",
        "Hence all the assumptions are satisfied for Anova test.\n",
        "\n",
        "\n",
        "## Chi-Square Test\n",
        "\n",
        "The test is applied when you have two categorical variables from a single population. It is used to determine whether there is a significant association between the two variables.\n",
        "\n",
        "We could use a chi-square test for independence to determine whether water variable is related to sun  variable\n",
        "\n",
        "#### contingency table\n",
        "Historically, a table summarization of two categorical variables in this form is called a contingency table.A Contingency table (also called crosstab) is used in statistics to summarise the relationship between several categorical variables. Here, we take a table that shows the number of men and women buying different types of pets.\n",
        "\n",
        "![image.png](attachment:image.png)\n",
        "\n",
        "\n",
        "So first here lets create contingency table for 2 categorical variables sun and water using pandas crosstab function \n",
        "\n",
        "Reference doc: https://pandas.pydata.org/docs/reference/api/pandas.crosstab.html"
      ]
    },
    {
      "cell_type": "code",
      "execution_count": 41,
      "metadata": {
        "id": "EFxMw38wzvPh",
        "outputId": "b580e7d7-f669-48bf-c645-cd6ddce36ec5"
      },
      "outputs": [
        {
          "name": "stdout",
          "output_type": "stream",
          "text": [
            "sun     high  low  med\n",
            "water                 \n",
            "daily      5    5    5\n",
            "weekly     5    5    5\n"
          ]
        }
      ],
      "source": [
        "# Generate contingency table using crosstab() function\n",
        "cont_table=pd.crosstab(index=df['water'],columns=df['sun'])\n",
        " \n",
        "# Print cont_table\n",
        "print(cont_table)"
      ]
    },
    {
      "cell_type": "markdown",
      "metadata": {
        "id": "pkdS4LTTzvPh"
      },
      "source": [
        "We can interpret the test statistic in the context of the chi-squared distribution with the requisite number of degress of freedom as follows:\n",
        "\n",
        "- If Statistic >= Critical Value: significant result, reject null hypothesis (H0), dependent.\n",
        "- If Statistic < Critical Value: not significant result, fail to reject null hypothesis (H0), independent.\n",
        "\n",
        "The degrees of freedom for the chi-squared distribution is calculated based on the size of the contingency table as: degrees of freedom: (rows - 1) * (cols - 1)\n",
        "\n",
        "In terms of a p-value and a chosen significance level (alpha), the test can be interpreted as follows:\n",
        "\n",
        "- If p-value <= alpha: significant result, reject null hypothesis (H0), dependent.\n",
        "- If p-value > alpha: not significant result, fail to reject null hypothesis (H0), independent.\n",
        "\n",
        "The Pearson’s chi-squared test for independence can be calculated in Python using the chi2_contingency() SciPy function.\n",
        "\n",
        "Reference doc: https://docs.scipy.org/doc/scipy/reference/generated/scipy.stats.chi2_contingency.html\n",
        "\n",
        "The function takes an array as input representing the contingency table for the two categorical variables. It returns the calculated statistic and p-value for interpretation as well as the calculated degrees of freedom and table of expected frequencies."
      ]
    },
    {
      "cell_type": "code",
      "execution_count": 42,
      "metadata": {
        "id": "rZ2lnTm8zvPh"
      },
      "outputs": [],
      "source": [
        "#get statistical value, pvalue , degree of freedom and expected value using chi2_contingency(), passing cont_table\n",
        "\n",
        "stat, p, dof, expected =stats.chi2_contingency(cont_table)"
      ]
    },
    {
      "cell_type": "markdown",
      "metadata": {
        "id": "Wn8prgCczvPh"
      },
      "source": [
        "We can also interpret the p-value by comparing it to a chosen significance level, which would be 5%, calculated by inverting the 95% probability used in the critical value interpretation."
      ]
    },
    {
      "cell_type": "code",
      "execution_count": 43,
      "metadata": {
        "id": "JaglamUtzvPi",
        "outputId": "781cf50b-f647-4391-d770-2b0ef2a318fc"
      },
      "outputs": [
        {
          "name": "stdout",
          "output_type": "stream",
          "text": [
            "Independent (fail to reject H0)\n"
          ]
        }
      ],
      "source": [
        "#keep alpha value as 0.05\n",
        "alpha = 0.05\n",
        "\n",
        "# interpret p-value\n",
        "\n",
        "if p <= alpha:\n",
        "    print('Dependent (reject H0)')\n",
        "else:\n",
        "    print('Independent (fail to reject H0)')"
      ]
    },
    {
      "cell_type": "markdown",
      "metadata": {
        "id": "2vbYnN69zvPi"
      },
      "source": [
        "The P values inidicates the variables are independent (fail to reject H0). Hence water and sun acts differently.\n",
        "\n",
        "We can also interpret the statistic by retrieving the critical value from the chi-squared distribution for the probability and number of degrees of freedom. For example, a probability of 95% can be used, suggesting that the finding of the test is quite likely given the assumption of the test that the variable is independent. If the statistic is less than or equal to the critical value, we can fail to reject this assumption, otherwise it can be rejected.\n",
        "\n",
        "for this we will be using scipy.stats.chi2.ppf()\n",
        "\n",
        "Reference doc: https://docs.scipy.org/doc/scipy/reference/generated/scipy.stats.chi2.html"
      ]
    },
    {
      "cell_type": "code",
      "execution_count": 44,
      "metadata": {
        "id": "QA0pn5R6zvPi",
        "outputId": "90dfbdbd-7224-4020-bfad-f848e7f25fa9"
      },
      "outputs": [
        {
          "name": "stdout",
          "output_type": "stream",
          "text": [
            "Independent (fail to reject H0)\n"
          ]
        }
      ],
      "source": [
        "# import chi2\n",
        "from scipy.stats import chi2 \n",
        "# keep probability as 95%\n",
        "prob = 0.95\n",
        "\n",
        "#Use chi2.ppf() function to get critical value, passing prob and dof in it\n",
        "critical = chi2.ppf(prob,dof)\n",
        "\n",
        "#Interpreting critical value w.r.t stat value\n",
        "\n",
        "if abs(stat) >= critical:\n",
        "    print('Dependent (reject H0)')\n",
        "else:\n",
        "    print('Independent (fail to reject H0)')"
      ]
    },
    {
      "cell_type": "markdown",
      "metadata": {
        "id": "UqOw9BWhzvPi"
      },
      "source": [
        "The critical value is calculated and interpreted, finding that indeed the variables are independent (fail to reject H0). The interpretation of the p-value makes the same finding that sun and water variable has no relationship"
      ]
    },
    {
      "cell_type": "markdown",
      "metadata": {
        "id": "cl2dPgytzvPi"
      },
      "source": [
        "ah, finally we came to end of this assignment. This assignment would help you to do any hypothesis testing in future. \n",
        "\n",
        "We are providing you the link for 17 Statistical Hypothesis Tests in Python (Cheat Sheet) for your reference.\n",
        "\n",
        "Reference link: https://machinelearningmastery.com/statistical-hypothesis-tests-in-python-cheat-sheet/\n",
        "\n",
        "---------------------------------\n",
        "\n",
        "# Pat yourself :) you have completed Hypothesis Testing challenge too. \n",
        "\n",
        "--------------------------------\n",
        "\n",
        "# FeedBack\n",
        "\n",
        "We hope you’ve enjoyed this course so far. We’re committed to help you use \"AI for All\" course to its full potential, so that you have a great learning experience. And that’s why we need your help in form of a feedback here.\n",
        "\n",
        "Please fill this feedback form https://docs.google.com/forms/d/e/1FAIpQLSfjBmH0yJSSA34IhSVx4h2eDMgOAeG4Dk-yHid__NMTk3Hq5g/viewform"
      ]
    }
  ],
  "metadata": {
    "colab": {
      "collapsed_sections": [],
      "provenance": []
    },
    "kernelspec": {
      "display_name": "Python 3",
      "language": "python",
      "name": "python3"
    },
    "language_info": {
      "codemirror_mode": {
        "name": "ipython",
        "version": 3
      },
      "file_extension": ".py",
      "mimetype": "text/x-python",
      "name": "python",
      "nbconvert_exporter": "python",
      "pygments_lexer": "ipython3",
      "version": "3.11.0 (main, Oct 24 2022, 18:26:48) [MSC v.1933 64 bit (AMD64)]"
    },
    "vscode": {
      "interpreter": {
        "hash": "1f6a27bcfbe46a917dbd192f4a82657396dda26148bae633192e8d28c70725f1"
      }
    }
  },
  "nbformat": 4,
  "nbformat_minor": 0
}
